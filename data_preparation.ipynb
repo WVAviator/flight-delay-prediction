{
 "cells": [
  {
   "metadata": {},
   "cell_type": "markdown",
   "source": [
    "# Analysis and Prediction of Flight Delays\n",
    "\n",
    "Flight delays are often due to weather, ATC limitations, or airline causes such as crew availability or mechanical issues. While measuring each of these causes directly may prove challenging, certain components of a typical flight may indirectly reveal, through common patterns, these issues. For example, departure times in the mid-afternoon are more likely to encounter weather delays in the summer due to the frequency of afternoon thunderstorms, certain airlines or aircraft are more likely to experience mechanical or crew availability issues, and evening flights are more likely to experience delays due to late inbound aircraft from delays caused earlier in the day. This notebook demonstrates these simple correlations and then provides a trained machine learning model to predict flight delays with reasonable accuracy.\n",
    "\n",
    "## Airline Delay Data\n",
    "\n",
    "The core data used for this analysis comes from the [Airline Delay Analysis](https://www.kaggle.com/datasets/sherrytp/airline-delay-analysis?resource=download) dataset available on Kaggle. Data hase been selected for 2019, with the primary CSV containing over 10 million rows of data.\n",
    "\n",
    "The data will be imported as a dataframe, and the following transformations will be applied:\n",
    "- The 'FL_DATE' column, representing the flight date, will be transformed to simply contain the month of the year. This should effectively capture seasonal fluctuations in flight delay patterns.\n",
    "- The 'DEP_TIME' column, representing the departure time of each flight, will be transformed to consist only of the hour of the day. This should capture delay patterns based on operational patterns throughout the day.\n",
    "- The 'ARR_DELAY' column, which represents the arrival delay of the flight, represents the target variable and will be transformed to the following categories:\n",
    "    - 'NO_DELAY' - represents arrival delays of 15 minutes or less, which most airlines consider an 'on-time' arrival\n",
    "    - 'MINOR_DELAY' - represents delays between 15 and 45 minutes, which are not likely to cause any significant disruptions\n",
    "    - 'MAJOR_DELAY' - represents delays beyond 45 minutes and up to 2 hours, which may cause serious disruptions in passenger movement\n",
    "    - 'SEVERE_DELAY' - represents delays beyond 2 hours which are guaranteed to cause significant disruptions and costs in passenger movement\n",
    "- The 'OP_UNIQUE_CARRIER' column, which represents the airline carrier, will be included and preprocessed as a categorical feature - and represents that certain carriers are more likely to experience delays\n",
    "- The 'ORIGIN' and 'DESTINATION' columns, which represent the airports the flight is operating to and from, will also be included as categorical features and should capture variations based on the flight's location "
   ],
   "id": "d15b95b5558ce23a"
  },
  {
   "metadata": {
    "ExecuteTime": {
     "end_time": "2024-06-30T23:29:57.033788Z",
     "start_time": "2024-06-30T23:29:44.536388Z"
    }
   },
   "cell_type": "code",
   "source": [
    "import pandas as pd\n",
    "\n",
    "df = pd.read_csv('data/2019.csv')\n",
    "\n",
    "# Remove any rows where this data is missing\n",
    "df = df.dropna(subset=['FL_DATE', 'DEP_TIME', 'ARR_DELAY'])\n",
    "\n",
    "# Transform from format 2019-11-17 -> 11\n",
    "df['FL_MONTH'] = df['FL_DATE'].apply(lambda x: int(x[5:7]))\n",
    "\n",
    "# Transform from format 1715 (converted to 1715.0 by pd) -> 17\n",
    "df['DEP_HOUR'] = df['DEP_TIME'].apply(lambda x: int(x // 100))\n",
    "\n",
    "def categorize_delay(delay):\n",
    "    if delay < 15:\n",
    "        return 'NO_DELAY'\n",
    "    elif delay < 45:\n",
    "        return 'MINOR_DELAY'\n",
    "    elif delay < 120:\n",
    "        return 'MAJOR_DELAY'\n",
    "    else:\n",
    "        return 'SEVERE_DELAY'\n",
    "\n",
    "# Transform into categories for making categorical predictions\n",
    "df['DELAY_CATEGORY'] = df['ARR_DELAY'].apply(categorize_delay)\n",
    "\n",
    "# Drop the remaining unused columns\n",
    "keep_columns = ['FL_MONTH', 'DEP_HOUR', 'OP_UNIQUE_CARRIER', 'ORIGIN', 'DEST', 'DELAY_CATEGORY']\n",
    "df = df[keep_columns]"
   ],
   "id": "daa12b74aed49cb3",
   "outputs": [],
   "execution_count": 2
  },
  {
   "metadata": {},
   "cell_type": "markdown",
   "source": [
    "## Sampling\n",
    "\n",
    "To make the data easier to work with, it should be sampled down to a reasonable number."
   ],
   "id": "df7a1a26a9d18444"
  },
  {
   "metadata": {
    "ExecuteTime": {
     "end_time": "2024-06-30T23:30:29.998194Z",
     "start_time": "2024-06-30T23:30:29.962992Z"
    }
   },
   "cell_type": "code",
   "source": [
    "import ipywidgets as widgets\n",
    "from IPython.display import display\n",
    "\n",
    "sample_slider = widgets.IntSlider(value=50000, min=10000, max=1000000, step=10000, description='Sample Size:')\n",
    "display(sample_slider)"
   ],
   "id": "7b5a9287db8215c9",
   "outputs": [
    {
     "data": {
      "text/plain": [
       "IntSlider(value=50000, description='Sample Size:', max=1000000, min=10000, step=10000)"
      ],
      "application/vnd.jupyter.widget-view+json": {
       "version_major": 2,
       "version_minor": 0,
       "model_id": "3f28bedfc7824d5ea5d641de62ac6eb3"
      }
     },
     "metadata": {},
     "output_type": "display_data"
    }
   ],
   "execution_count": 3
  },
  {
   "metadata": {
    "ExecuteTime": {
     "end_time": "2024-06-30T23:30:42.310288Z",
     "start_time": "2024-06-30T23:30:41.949176Z"
    }
   },
   "cell_type": "code",
   "source": [
    "def sample_data(sample_size):\n",
    "    return df.sample(n=sample_size, random_state=42)\n",
    "\n",
    "sample_size = sample_slider.value\n",
    "\n",
    "df_sampled = sample_data(sample_size)\n",
    "\n",
    "df_sampled.head()"
   ],
   "id": "2dca4c91ba6c9fe3",
   "outputs": [
    {
     "data": {
      "text/plain": [
       "         FL_MONTH  DEP_HOUR OP_UNIQUE_CARRIER ORIGIN DEST DELAY_CATEGORY\n",
       "1046527         2        21                AA    PHL  AUS   SEVERE_DELAY\n",
       "6212992        11         6                DL    SEA  SLC       NO_DELAY\n",
       "1649212         3        10                YV    BDL  IAD       NO_DELAY\n",
       "2584035         5         8                WN    ONT  SMF       NO_DELAY\n",
       "33601           1        20                UA    IAH  ORD    MINOR_DELAY"
      ],
      "text/html": [
       "<div>\n",
       "<style scoped>\n",
       "    .dataframe tbody tr th:only-of-type {\n",
       "        vertical-align: middle;\n",
       "    }\n",
       "\n",
       "    .dataframe tbody tr th {\n",
       "        vertical-align: top;\n",
       "    }\n",
       "\n",
       "    .dataframe thead th {\n",
       "        text-align: right;\n",
       "    }\n",
       "</style>\n",
       "<table border=\"1\" class=\"dataframe\">\n",
       "  <thead>\n",
       "    <tr style=\"text-align: right;\">\n",
       "      <th></th>\n",
       "      <th>FL_MONTH</th>\n",
       "      <th>DEP_HOUR</th>\n",
       "      <th>OP_UNIQUE_CARRIER</th>\n",
       "      <th>ORIGIN</th>\n",
       "      <th>DEST</th>\n",
       "      <th>DELAY_CATEGORY</th>\n",
       "    </tr>\n",
       "  </thead>\n",
       "  <tbody>\n",
       "    <tr>\n",
       "      <th>1046527</th>\n",
       "      <td>2</td>\n",
       "      <td>21</td>\n",
       "      <td>AA</td>\n",
       "      <td>PHL</td>\n",
       "      <td>AUS</td>\n",
       "      <td>SEVERE_DELAY</td>\n",
       "    </tr>\n",
       "    <tr>\n",
       "      <th>6212992</th>\n",
       "      <td>11</td>\n",
       "      <td>6</td>\n",
       "      <td>DL</td>\n",
       "      <td>SEA</td>\n",
       "      <td>SLC</td>\n",
       "      <td>NO_DELAY</td>\n",
       "    </tr>\n",
       "    <tr>\n",
       "      <th>1649212</th>\n",
       "      <td>3</td>\n",
       "      <td>10</td>\n",
       "      <td>YV</td>\n",
       "      <td>BDL</td>\n",
       "      <td>IAD</td>\n",
       "      <td>NO_DELAY</td>\n",
       "    </tr>\n",
       "    <tr>\n",
       "      <th>2584035</th>\n",
       "      <td>5</td>\n",
       "      <td>8</td>\n",
       "      <td>WN</td>\n",
       "      <td>ONT</td>\n",
       "      <td>SMF</td>\n",
       "      <td>NO_DELAY</td>\n",
       "    </tr>\n",
       "    <tr>\n",
       "      <th>33601</th>\n",
       "      <td>1</td>\n",
       "      <td>20</td>\n",
       "      <td>UA</td>\n",
       "      <td>IAH</td>\n",
       "      <td>ORD</td>\n",
       "      <td>MINOR_DELAY</td>\n",
       "    </tr>\n",
       "  </tbody>\n",
       "</table>\n",
       "</div>"
      ]
     },
     "execution_count": 4,
     "metadata": {},
     "output_type": "execute_result"
    }
   ],
   "execution_count": 4
  },
  {
   "metadata": {},
   "cell_type": "markdown",
   "source": [
    "## Export Data\n",
    "\n",
    "Once the data has been cleaned and sampled to a reasonable size, it can be exported to its own file for other notebooks in this project to reference."
   ],
   "id": "c92c029d5365dc5b"
  },
  {
   "metadata": {
    "ExecuteTime": {
     "end_time": "2024-06-30T23:32:43.406100Z",
     "start_time": "2024-06-30T23:32:43.242102Z"
    }
   },
   "cell_type": "code",
   "source": "df_sampled.to_csv('data/sampled_data.csv', index=False, header=True)",
   "id": "422692395d6921aa",
   "outputs": [],
   "execution_count": 7
  },
  {
   "metadata": {},
   "cell_type": "markdown",
   "source": "[Continue to Data Visualizations](\"visualizations.ipynb\")",
   "id": "52358349ccd41e91"
  }
 ],
 "metadata": {
  "kernelspec": {
   "display_name": "Python 3",
   "language": "python",
   "name": "python3"
  },
  "language_info": {
   "codemirror_mode": {
    "name": "ipython",
    "version": 2
   },
   "file_extension": ".py",
   "mimetype": "text/x-python",
   "name": "python",
   "nbconvert_exporter": "python",
   "pygments_lexer": "ipython2",
   "version": "2.7.6"
  }
 },
 "nbformat": 4,
 "nbformat_minor": 5
}
