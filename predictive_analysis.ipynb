{
 "cells": [
  {
   "cell_type": "code",
   "id": "cb038eb805c030cb",
   "metadata": {
    "collapsed": true,
    "ExecuteTime": {
     "end_time": "2024-07-06T01:03:59.102673Z",
     "start_time": "2024-07-06T01:03:59.082045Z"
    }
   },
   "source": [
    "import numpy as np\n",
    "import pandas as pd\n",
    "from sklearn.calibration import CalibratedClassifierCV\n",
    "from sklearn.ensemble import RandomForestClassifier\n",
    "from sklearn.tree import DecisionTreeClassifier\n",
    "from sklearn.compose import ColumnTransformer\n",
    "from sklearn.linear_model import LogisticRegression\n",
    "from sklearn.model_selection import train_test_split, GridSearchCV\n",
    "from sklearn.pipeline import Pipeline\n",
    "from sklearn.preprocessing import  OneHotEncoder,  StandardScaler\n",
    "from sklearn.metrics import brier_score_loss, log_loss\n",
    "from transformers import DateTimeTransformer, AirportLatLongTransformer"
   ],
   "outputs": [],
   "execution_count": 23
  },
  {
   "metadata": {},
   "cell_type": "markdown",
   "source": [
    "# Predictive Analysis\n",
    "\n",
    "This predictive analysis aims to answer questions like, \"What is the probability that this flight will be on time?\" or \"What is the chance that this flight will experience a major delay?\"\n",
    "\n",
    "Various machine learning strategies will be used to identify patterns in basic flight schedule data to determine the probability of delay. This predictive model can then be used by airline schedule planners, travel agencies, and airline customers for planning trips."
   ],
   "id": "e6770188f970f5ce"
  },
  {
   "metadata": {},
   "cell_type": "markdown",
   "source": [
    "## Preprocessing\n",
    "\n",
    "To begin developing a predictive model, the data must first be imported. This data will be imported from the `2019_prepared.csv` file that was generated after running the scripts in the [Data Preparation]('./data_preparation.ipynb') notebook.\n",
    "\n",
    "The data will then be split into training and test data sets to better assess the model's effectiveness after training. The numeric features will then be transformed using a StandardScaler, while the airline carrier (e.g. DL for Delta, UA for United) will be transformed as a categorical feature using a OneHotEncoder."
   ],
   "id": "e8daca57864fd75e"
  },
  {
   "metadata": {},
   "cell_type": "code",
   "outputs": [],
   "execution_count": null,
   "source": [
    "\n",
    "df = pd.read_csv('data/2019_prepared.csv')\n",
    "\n",
    "y = df['DELAY_CATEGORY']\n",
    "X = df.drop(columns = 'DELAY_CATEGORY')\n",
    "\n",
    "X_train, X_test, y_train, y_test = train_test_split(X, y, test_size=0.2, random_state=42)\n",
    "\n",
    "numerical_features = ['FL_DAY', 'DEP_MINUTES', 'DAY_OF_WEEK', 'ORIGIN_LAT', 'ORIGIN_LON', 'DEST_LAT', 'DEST_LON']\n",
    "categorical_features = ['OP_UNIQUE_CARRIER']\n",
    "\n",
    "numeric_transformer = StandardScaler()\n",
    "categorical_transformer = OneHotEncoder(handle_unknown='ignore', sparse_output=False)\n",
    "\n",
    "preprocessor = ColumnTransformer(\n",
    "    transformers=[\n",
    "        ('cat', categorical_transformer, categorical_features),\n",
    "        ('num', numeric_transformer, numerical_features),\n",
    "    ]\n",
    ")"
   ],
   "id": "e1984a04f67a19cf"
  },
  {
   "metadata": {},
   "cell_type": "markdown",
   "source": [
    "## Basic Model Training\n",
    "\n",
    "Three models have been chosen initially, based on their effectiveness in predicting probabilities of classifications. In this case, we want to predict the probability of no delay, minor delay, major delay, and severe delay, given basic flight information. \n",
    "\n",
    "Logistic Regression is a good model for identifying these probabilities accurately."
   ],
   "id": "7a050b70764d1714"
  },
  {
   "metadata": {
    "ExecuteTime": {
     "end_time": "2024-07-06T00:40:54.981777Z",
     "start_time": "2024-07-06T00:40:51.093430Z"
    }
   },
   "cell_type": "code",
   "source": [
    "clf = Pipeline([\n",
    "    ('datetime_transformer', DateTimeTransformer()),\n",
    "    ('airportlatlongtransformer', AirportLatLongTransformer()),\n",
    "    ('preprocessor', preprocessor),\n",
    "    ('classifier', LogisticRegression())\n",
    "])\n",
    "\n",
    "clf.fit(X_train, y_train)"
   ],
   "id": "bfa83e05a3988ba4",
   "outputs": [],
   "execution_count": null
  },
  {
   "metadata": {},
   "cell_type": "markdown",
   "source": "To gauge the effectiveness and performance of the results, two metrics are used - Brier Scoring and Log Loss. These metric calculations are encapsulated in a function for reuse later with other models.",
   "id": "21cc77709c1602ce"
  },
  {
   "metadata": {
    "ExecuteTime": {
     "end_time": "2024-07-06T00:58:02.592825Z",
     "start_time": "2024-07-06T00:58:00.032281Z"
    }
   },
   "cell_type": "code",
   "source": [
    "def gauge_performance(clf, X_test, y_test):\n",
    "    y_pred_proba = clf.predict_proba(X_test)\n",
    "\n",
    "    classes = clf.named_steps['classifier'].classes_\n",
    "    brier_scores = []\n",
    "\n",
    "    for i, class_label in enumerate(classes):\n",
    "        brier_score = brier_score_loss(y_test == class_label, y_pred_proba[:, i])\n",
    "        brier_scores.append(brier_score)\n",
    "        print(f'Brier score for class {class_label}: {brier_score}')\n",
    "\n",
    "    average_brier_score = np.mean(brier_scores)\n",
    "    print(f'Average Brier score: {average_brier_score}')    \n",
    "    \n",
    "    print(\"\\nLog loss (smaller is better):\")\n",
    "    print(log_loss(y_test, y_pred_proba))\n",
    "\n",
    "gauge_performance(clf, X_test, y_test)"
   ],
   "id": "814b2fe3e868636b",
   "outputs": [
    {
     "name": "stdout",
     "output_type": "stream",
     "text": [
      "Brier score for class MAJOR_DELAY: 0.05432723560244027\n",
      "Brier score for class MINOR_DELAY: 0.08993720026190655\n",
      "Brier score for class NO_DELAY: 0.137430744334431\n",
      "Brier score for class SEVERE_DELAY: 0.024702888392350065\n",
      "Average Brier score: 0.07659951714778197\n",
      "\n",
      "Log loss (smaller is better):\n",
      "0.6183724514261334\n"
     ]
    }
   ],
   "execution_count": 19
  },
  {
   "metadata": {},
   "cell_type": "markdown",
   "source": [
    "The results from Logistic Regression show a Brier score of \n",
    "\n",
    "The next model to assess is the RandomForestClassifier. "
   ],
   "id": "311e45ec046a5c67"
  },
  {
   "metadata": {},
   "cell_type": "code",
   "outputs": [
    {
     "name": "stdout",
     "output_type": "stream",
     "text": [
      "Brier score for class MAJOR_DELAY: 0.055227218874476555\n",
      "Brier score for class MINOR_DELAY: 0.09278204984169135\n",
      "Brier score for class NO_DELAY: 0.13849656827698908\n",
      "Brier score for class SEVERE_DELAY: 0.02501327239301399\n",
      "Average Brier score: 0.07787977734654275\n",
      "\n",
      "Log loss (smaller is better):\n",
      "0.7810242551774128\n"
     ]
    }
   ],
   "execution_count": 20,
   "source": [
    "clf = Pipeline([\n",
    "    ('datetime_transformer', DateTimeTransformer()),\n",
    "    ('airportlatlongtransformer', AirportLatLongTransformer()),\n",
    "    ('preprocessor', preprocessor),\n",
    "    ('classifier', RandomForestClassifier())\n",
    "])\n",
    "\n",
    "clf.fit(X_train, y_train)\n",
    "\n",
    "gauge_performance(clf, X_test, y_test)"
   ],
   "id": "75aa7540cc3957f7"
  },
  {
   "metadata": {},
   "cell_type": "markdown",
   "source": [
    "The results are comparable to LogisticRegression, with a slightly higher (but still good) log loss.\n",
    "\n",
    "The third and final model to check is the DecisionTreeClassifier."
   ],
   "id": "d825dbbf726b3478"
  },
  {
   "metadata": {},
   "cell_type": "code",
   "outputs": [
    {
     "name": "stdout",
     "output_type": "stream",
     "text": [
      "Brier score for class MAJOR_DELAY: 0.11112245940149117\n",
      "Brier score for class MINOR_DELAY: 0.1832805637830661\n",
      "Brier score for class NO_DELAY: 0.2700439178837708\n",
      "Brier score for class SEVERE_DELAY: 0.04682872025329384\n",
      "Average Brier score: 0.15281891533040548\n",
      "\n",
      "Log loss (smaller is better):\n",
      "11.016304030939951\n"
     ]
    }
   ],
   "execution_count": 21,
   "source": [
    "clf = Pipeline([\n",
    "    ('datetime_transformer', DateTimeTransformer()),\n",
    "    ('airportlatlongtransformer', AirportLatLongTransformer()),\n",
    "    ('preprocessor', preprocessor),\n",
    "    ('classifier', DecisionTreeClassifier())\n",
    "])\n",
    "\n",
    "clf.fit(X_train, y_train)\n",
    "\n",
    "gauge_performance(clf, X_test, y_test)\n"
   ],
   "id": "1489fe0196d01ce"
  },
  {
   "metadata": {},
   "cell_type": "markdown",
   "source": "These results are much worse than either Logistic Regression or Random Forests. The Brier scores for each category are all much higher and the log loss is significantly higher.",
   "id": "7fcc117acc69ba0e"
  },
  {
   "metadata": {},
   "cell_type": "markdown",
   "source": [
    "## Calibrated Classifier\n",
    "\n",
    "To further improve upon the results of the LogisticRegression and RandomForestClassifier models, a CalibratedClassifierCV will be included to better train for proper classification probabilities.\n",
    "\n",
    "With this method, the RandomForestClassifier model shows the most improvement and best results."
   ],
   "id": "64f4971d567be08f"
  },
  {
   "metadata": {},
   "cell_type": "code",
   "outputs": [
    {
     "name": "stdout",
     "output_type": "stream",
     "text": [
      "Brier score for class MAJOR_DELAY: 0.05431621532454616\n",
      "Brier score for class MINOR_DELAY: 0.0899500578447694\n",
      "Brier score for class NO_DELAY: 0.13739717362360984\n",
      "Brier score for class SEVERE_DELAY: 0.0247119492695515\n",
      "Average Brier score: 0.07659384901561923\n",
      "\n",
      "Log loss (smaller is better):\n",
      "0.6183979922824974\n"
     ]
    }
   ],
   "execution_count": 25,
   "source": [
    "calibrated_clf = CalibratedClassifierCV(RandomForestClassifier(), cv = 5, method = \"isotonic\")\n",
    "\n",
    "clf = Pipeline([\n",
    "    ('datetime_transformer', DateTimeTransformer()),\n",
    "    ('airportlatlongtransformer', AirportLatLongTransformer()),\n",
    "    ('preprocessor', preprocessor),\n",
    "    ('classifier', calibrated_clf)\n",
    "])\n",
    "\n",
    "clf.fit(X_train, y_train)\n",
    "\n",
    "gauge_performance(clf, X_test, y_test)"
   ],
   "id": "3ac0ef6b55af44c4"
  },
  {
   "metadata": {},
   "cell_type": "markdown",
   "source": "To hopefully take this a step further, hyperparameter tuning using a GridSearchCV will be used to find the ideal parameters for the RandomForestClassifier that result in the best predictions.",
   "id": "7c9a4a39a94473f0"
  },
  {
   "metadata": {},
   "cell_type": "code",
   "outputs": [
    {
     "name": "stderr",
     "output_type": "stream",
     "text": [
      "/Users/wvaviator/miniconda3/lib/python3.12/site-packages/joblib/externals/loky/process_executor.py:752: UserWarning: A worker stopped while some jobs were given to the executor. This can be caused by a too short worker timeout or by a memory leak.\n",
      "  warnings.warn(\n",
      "/Users/wvaviator/miniconda3/lib/python3.12/site-packages/joblib/externals/loky/process_executor.py:752: UserWarning: A worker stopped while some jobs were given to the executor. This can be caused by a too short worker timeout or by a memory leak.\n",
      "  warnings.warn(\n",
      "/Users/wvaviator/miniconda3/lib/python3.12/site-packages/joblib/externals/loky/process_executor.py:752: UserWarning: A worker stopped while some jobs were given to the executor. This can be caused by a too short worker timeout or by a memory leak.\n",
      "  warnings.warn(\n",
      "/Users/wvaviator/miniconda3/lib/python3.12/site-packages/joblib/externals/loky/process_executor.py:752: UserWarning: A worker stopped while some jobs were given to the executor. This can be caused by a too short worker timeout or by a memory leak.\n",
      "  warnings.warn(\n",
      "/Users/wvaviator/miniconda3/lib/python3.12/site-packages/joblib/externals/loky/process_executor.py:752: UserWarning: A worker stopped while some jobs were given to the executor. This can be caused by a too short worker timeout or by a memory leak.\n",
      "  warnings.warn(\n",
      "/Users/wvaviator/miniconda3/lib/python3.12/site-packages/joblib/externals/loky/process_executor.py:752: UserWarning: A worker stopped while some jobs were given to the executor. This can be caused by a too short worker timeout or by a memory leak.\n",
      "  warnings.warn(\n",
      "/Users/wvaviator/miniconda3/lib/python3.12/site-packages/joblib/externals/loky/process_executor.py:752: UserWarning: A worker stopped while some jobs were given to the executor. This can be caused by a too short worker timeout or by a memory leak.\n",
      "  warnings.warn(\n",
      "/Users/wvaviator/miniconda3/lib/python3.12/site-packages/joblib/externals/loky/process_executor.py:752: UserWarning: A worker stopped while some jobs were given to the executor. This can be caused by a too short worker timeout or by a memory leak.\n",
      "  warnings.warn(\n",
      "/Users/wvaviator/miniconda3/lib/python3.12/site-packages/joblib/externals/loky/process_executor.py:752: UserWarning: A worker stopped while some jobs were given to the executor. This can be caused by a too short worker timeout or by a memory leak.\n",
      "  warnings.warn(\n",
      "/Users/wvaviator/miniconda3/lib/python3.12/site-packages/joblib/externals/loky/process_executor.py:752: UserWarning: A worker stopped while some jobs were given to the executor. This can be caused by a too short worker timeout or by a memory leak.\n",
      "  warnings.warn(\n",
      "/Users/wvaviator/miniconda3/lib/python3.12/site-packages/joblib/externals/loky/process_executor.py:752: UserWarning: A worker stopped while some jobs were given to the executor. This can be caused by a too short worker timeout or by a memory leak.\n",
      "  warnings.warn(\n",
      "/Users/wvaviator/miniconda3/lib/python3.12/site-packages/joblib/externals/loky/process_executor.py:752: UserWarning: A worker stopped while some jobs were given to the executor. This can be caused by a too short worker timeout or by a memory leak.\n",
      "  warnings.warn(\n",
      "/Users/wvaviator/miniconda3/lib/python3.12/site-packages/joblib/externals/loky/process_executor.py:752: UserWarning: A worker stopped while some jobs were given to the executor. This can be caused by a too short worker timeout or by a memory leak.\n",
      "  warnings.warn(\n",
      "/Users/wvaviator/miniconda3/lib/python3.12/site-packages/joblib/externals/loky/process_executor.py:752: UserWarning: A worker stopped while some jobs were given to the executor. This can be caused by a too short worker timeout or by a memory leak.\n",
      "  warnings.warn(\n",
      "/Users/wvaviator/miniconda3/lib/python3.12/site-packages/joblib/externals/loky/process_executor.py:752: UserWarning: A worker stopped while some jobs were given to the executor. This can be caused by a too short worker timeout or by a memory leak.\n",
      "  warnings.warn(\n"
     ]
    },
    {
     "name": "stdout",
     "output_type": "stream",
     "text": [
      "Best parameters found:  {'classifier__estimator__max_depth': 30, 'classifier__estimator__min_samples_leaf': 4, 'classifier__estimator__min_samples_split': 10, 'classifier__estimator__n_estimators': 300}\n",
      "Best log loss:  0.6159168354320423\n"
     ]
    }
   ],
   "execution_count": 28,
   "source": [
    "param_grid = {\n",
    "    'classifier__estimator__n_estimators': [100, 200, 300],\n",
    "    'classifier__estimator__max_depth': [None, 10, 20, 30],\n",
    "    'classifier__estimator__min_samples_split': [2, 5, 10],\n",
    "    'classifier__estimator__min_samples_leaf': [1, 2, 4]\n",
    "}\n",
    "\n",
    "grid_search = GridSearchCV(clf, param_grid, cv = 5, scoring = 'neg_log_loss', n_jobs = -1, verbose = 3)\n",
    "grid_search.fit(X_train, y_train)\n",
    "\n",
    "print(\"Best parameters found: \", grid_search.best_params_)\n",
    "print(\"Best log loss: \", -grid_search.best_score_)\n",
    "\n",
    "best_rf_classifer = grid_search.best_estimator_"
   ],
   "id": "2f266b026657d1fd"
  },
  {
   "metadata": {
    "ExecuteTime": {
     "end_time": "2024-07-06T03:14:51.439151Z",
     "start_time": "2024-07-06T03:13:36.020547Z"
    }
   },
   "cell_type": "code",
   "source": [
    "calibrated_clf = CalibratedClassifierCV(RandomForestClassifier(max_depth = 30, min_samples_leaf = 4, min_samples_split = 10, n_estimators = 300), cv = 5, method = \"isotonic\")\n",
    "\n",
    "clf = Pipeline([\n",
    "    ('datetime_transformer', DateTimeTransformer()),\n",
    "    ('airportlatlongtransformer', AirportLatLongTransformer()),\n",
    "    ('preprocessor', preprocessor),\n",
    "    ('classifier', calibrated_clf)\n",
    "])\n",
    "\n",
    "clf.fit(X_train, y_train)\n",
    "\n",
    "gauge_performance(clf, X_test, y_test)\n"
   ],
   "id": "91dadc7622fb598c",
   "outputs": [
    {
     "name": "stdout",
     "output_type": "stream",
     "text": [
      "Brier score for class MAJOR_DELAY: 0.054011500165916035\n",
      "Brier score for class MINOR_DELAY: 0.0893660609969095\n",
      "Brier score for class NO_DELAY: 0.13592823302957732\n",
      "Brier score for class SEVERE_DELAY: 0.02434474730637218\n",
      "Average Brier score: 0.07591263537469377\n",
      "\n",
      "Log loss (smaller is better):\n",
      "0.6102507036542857\n"
     ]
    }
   ],
   "execution_count": 29
  },
  {
   "metadata": {},
   "cell_type": "code",
   "outputs": [],
   "execution_count": null,
   "source": "",
   "id": "92a62d78d73251ce"
  }
 ],
 "metadata": {
  "kernelspec": {
   "display_name": "Python 3",
   "language": "python",
   "name": "python3"
  },
  "language_info": {
   "codemirror_mode": {
    "name": "ipython",
    "version": 2
   },
   "file_extension": ".py",
   "mimetype": "text/x-python",
   "name": "python",
   "nbconvert_exporter": "python",
   "pygments_lexer": "ipython2",
   "version": "2.7.6"
  }
 },
 "nbformat": 4,
 "nbformat_minor": 5
}
