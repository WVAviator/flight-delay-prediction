{
 "cells": [
  {
   "cell_type": "code",
   "id": "cb038eb805c030cb",
   "metadata": {
    "collapsed": true,
    "ExecuteTime": {
     "end_time": "2024-07-10T02:51:13.530865Z",
     "start_time": "2024-07-10T02:51:13.493891Z"
    }
   },
   "source": [
    "import numpy as np\n",
    "import pandas as pd\n",
    "from sklearn.calibration import CalibratedClassifierCV\n",
    "from sklearn.ensemble import RandomForestClassifier\n",
    "from sklearn.tree import DecisionTreeClassifier\n",
    "from sklearn.compose import ColumnTransformer\n",
    "from sklearn.linear_model import LogisticRegression\n",
    "from sklearn.model_selection import train_test_split, GridSearchCV\n",
    "from sklearn.pipeline import Pipeline\n",
    "from sklearn.preprocessing import  OneHotEncoder,  StandardScaler\n",
    "from sklearn.metrics import brier_score_loss, log_loss\n",
    "from transformers import DateTimeTransformer, AirportLatLongTransformer"
   ],
   "outputs": [],
   "execution_count": 21
  },
  {
   "metadata": {},
   "cell_type": "markdown",
   "source": [
    "# Predictive Analysis\n",
    "\n",
    "This predictive analysis aims to answer questions like, \"What is the probability that this flight will be on time?\" or \"What is the chance that this flight will experience a major delay?\"\n",
    "\n",
    "Various machine learning strategies will be used to identify patterns in basic flight schedule data to determine the probability of delay. This predictive model can then be used by travel agency customers for planning trips."
   ],
   "id": "e6770188f970f5ce"
  },
  {
   "metadata": {},
   "cell_type": "markdown",
   "source": [
    "## Preprocessing\n",
    "\n",
    "To begin developing a predictive model, the data must first be imported. This data will be imported from the `2019_prepared.csv` file that was generated after running the scripts in the [Data Preparation]('./data_preparation.ipynb') notebook.\n",
    "\n",
    "The data will then be split into training and test data sets to better assess the model's effectiveness after training. The numeric features will then be transformed using a StandardScaler, while the airline carrier (e.g. DL for Delta, UA for United) will be transformed as a categorical feature using a OneHotEncoder."
   ],
   "id": "e8daca57864fd75e"
  },
  {
   "metadata": {
    "ExecuteTime": {
     "end_time": "2024-07-10T02:51:13.645764Z",
     "start_time": "2024-07-10T02:51:13.535491Z"
    }
   },
   "cell_type": "code",
   "source": [
    "\n",
    "df = pd.read_csv('data/2019_prepared.csv')\n",
    "\n",
    "y = df['DELAY_CATEGORY']\n",
    "X = df.drop(columns = 'DELAY_CATEGORY')\n",
    "\n",
    "X_train, X_test, y_train, y_test = train_test_split(X, y, test_size=0.2, random_state=42)\n",
    "\n",
    "numerical_features = ['FL_DAY', 'DEP_MINUTES', 'DAY_OF_WEEK', 'ORIGIN_LAT', 'ORIGIN_LON', 'DEST_LAT', 'DEST_LON']\n",
    "categorical_features = ['OP_UNIQUE_CARRIER']\n",
    "\n",
    "numeric_transformer = StandardScaler()\n",
    "categorical_transformer = OneHotEncoder(handle_unknown='ignore', sparse_output=False)\n",
    "\n",
    "preprocessor = ColumnTransformer(\n",
    "    transformers=[\n",
    "        ('cat', categorical_transformer, categorical_features),\n",
    "        ('num', numeric_transformer, numerical_features),\n",
    "    ]\n",
    ")"
   ],
   "id": "e1984a04f67a19cf",
   "outputs": [],
   "execution_count": 22
  },
  {
   "metadata": {},
   "cell_type": "markdown",
   "source": [
    "## Basic Model Training\n",
    "\n",
    "Three models have been chosen initially, based on their effectiveness in predicting probabilities of classifications. In this case, we want to predict the probability of no delay, minor delay, major delay, and severe delay, given basic flight information. \n",
    "\n",
    "Logistic Regression is a good model for identifying these probabilities accurately."
   ],
   "id": "7a050b70764d1714"
  },
  {
   "metadata": {
    "ExecuteTime": {
     "end_time": "2024-07-10T02:51:14.966215Z",
     "start_time": "2024-07-10T02:51:13.646277Z"
    }
   },
   "cell_type": "code",
   "source": [
    "clf = Pipeline([\n",
    "    ('datetime_transformer', DateTimeTransformer()),\n",
    "    ('airportlatlongtransformer', AirportLatLongTransformer()),\n",
    "    ('preprocessor', preprocessor),\n",
    "    ('classifier', LogisticRegression())\n",
    "])\n",
    "\n",
    "print(\"Training model...\")\n",
    "clf.fit(X_train, y_train)\n",
    "print(\"Done\")"
   ],
   "id": "bfa83e05a3988ba4",
   "outputs": [
    {
     "name": "stdout",
     "output_type": "stream",
     "text": [
      "Training model...\n",
      "Done\n"
     ]
    }
   ],
   "execution_count": 23
  },
  {
   "metadata": {},
   "cell_type": "markdown",
   "source": "To gauge the effectiveness and performance of the results, two metrics are used - Brier Scoring and Log Loss. These metric calculations are encapsulated in a function for reuse later with other models.",
   "id": "21cc77709c1602ce"
  },
  {
   "metadata": {
    "ExecuteTime": {
     "end_time": "2024-07-10T02:51:15.205642Z",
     "start_time": "2024-07-10T02:51:14.969535Z"
    }
   },
   "cell_type": "code",
   "source": [
    "def gauge_performance(clf, X_test, y_test):\n",
    "    y_pred_proba = clf.predict_proba(X_test)\n",
    "\n",
    "    classes = clf.named_steps['classifier'].classes_\n",
    "    brier_scores = []\n",
    "\n",
    "    for i, class_label in enumerate(classes):\n",
    "        brier_score = brier_score_loss(y_test == class_label, y_pred_proba[:, i])\n",
    "        brier_scores.append(brier_score)\n",
    "        print(f'Brier score for class {class_label}: {brier_score}')\n",
    "\n",
    "    average_brier_score = np.mean(brier_scores)\n",
    "    print(f'Average Brier score: {average_brier_score}')    \n",
    "    \n",
    "    print(\"\\nLog loss (smaller is better):\")\n",
    "    print(log_loss(y_test, y_pred_proba))\n",
    "\n",
    "gauge_performance(clf, X_test, y_test)"
   ],
   "id": "814b2fe3e868636b",
   "outputs": [
    {
     "name": "stdout",
     "output_type": "stream",
     "text": [
      "Brier score for class MAJOR_DELAY: 0.055630738753677536\n",
      "Brier score for class MINOR_DELAY: 0.09045398913166455\n",
      "Brier score for class NO_DELAY: 0.14699749108416515\n",
      "Brier score for class SEVERE_DELAY: 0.026120114474321773\n",
      "Average Brier score: 0.07980058336095726\n",
      "\n",
      "Log loss (smaller is better):\n",
      "0.6465235547585348\n"
     ]
    }
   ],
   "execution_count": 24
  },
  {
   "metadata": {},
   "cell_type": "markdown",
   "source": [
    "The results from Logistic Regression show a Brier score of 0.079 on average, with a log loss of 0.65.\n",
    "\n",
    "The next model to assess is the RandomForestClassifier. "
   ],
   "id": "311e45ec046a5c67"
  },
  {
   "metadata": {
    "ExecuteTime": {
     "end_time": "2024-07-10T02:51:23.438338Z",
     "start_time": "2024-07-10T02:51:15.209271Z"
    }
   },
   "cell_type": "code",
   "source": [
    "clf = Pipeline([\n",
    "    ('datetime_transformer', DateTimeTransformer()),\n",
    "    ('airportlatlongtransformer', AirportLatLongTransformer()),\n",
    "    ('preprocessor', preprocessor),\n",
    "    ('classifier', RandomForestClassifier())\n",
    "])\n",
    "\n",
    "print(\"Training model...\")\n",
    "clf.fit(X_train, y_train)\n",
    "print(\"Done\\n\")\n",
    "\n",
    "gauge_performance(clf, X_test, y_test)"
   ],
   "id": "75aa7540cc3957f7",
   "outputs": [
    {
     "name": "stdout",
     "output_type": "stream",
     "text": [
      "Training model...\n",
      "Done\n",
      "\n",
      "Brier score for class MAJOR_DELAY: 0.055447615156776625\n",
      "Brier score for class MINOR_DELAY: 0.09308088550709835\n",
      "Brier score for class NO_DELAY: 0.13879451026452866\n",
      "Brier score for class SEVERE_DELAY: 0.025130895720559696\n",
      "Average Brier score: 0.07811347666224083\n",
      "\n",
      "Log loss (smaller is better):\n",
      "0.8004310124228897\n"
     ]
    }
   ],
   "execution_count": 25
  },
  {
   "metadata": {},
   "cell_type": "markdown",
   "source": [
    "The results are slightly worse than LogisticRegression, with a much higher (but still good) log loss value.\n",
    "\n",
    "The third and final model to check is the DecisionTreeClassifier."
   ],
   "id": "d825dbbf726b3478"
  },
  {
   "metadata": {
    "ExecuteTime": {
     "end_time": "2024-07-10T02:51:24.781221Z",
     "start_time": "2024-07-10T02:51:23.439643Z"
    }
   },
   "cell_type": "code",
   "source": [
    "clf = Pipeline([\n",
    "    ('datetime_transformer', DateTimeTransformer()),\n",
    "    ('airportlatlongtransformer', AirportLatLongTransformer()),\n",
    "    ('preprocessor', preprocessor),\n",
    "    ('classifier', DecisionTreeClassifier())\n",
    "])\n",
    "\n",
    "print(\"Training model...\")\n",
    "clf.fit(X_train, y_train)\n",
    "print(\"Done\\n\")\n",
    "\n",
    "gauge_performance(clf, X_test, y_test)\n"
   ],
   "id": "1489fe0196d01ce",
   "outputs": [
    {
     "name": "stdout",
     "output_type": "stream",
     "text": [
      "Training model...\n",
      "Done\n",
      "\n",
      "Brier score for class MAJOR_DELAY: 0.11117352670820141\n",
      "Brier score for class MINOR_DELAY: 0.18256562148912267\n",
      "Brier score for class NO_DELAY: 0.2730568889796752\n",
      "Brier score for class SEVERE_DELAY: 0.046318047186191404\n",
      "Average Brier score: 0.15327852109079768\n",
      "\n",
      "Log loss (smaller is better):\n",
      "11.049435772386389\n"
     ]
    }
   ],
   "execution_count": 26
  },
  {
   "metadata": {},
   "cell_type": "markdown",
   "source": "These results are much worse than either Logistic Regression or Random Forests. The Brier scores for each category are all much higher and the log loss is significantly higher.",
   "id": "7fcc117acc69ba0e"
  },
  {
   "metadata": {},
   "cell_type": "markdown",
   "source": [
    "## Calibrated Classifier\n",
    "\n",
    "To further improve upon the results of the LogisticRegression and RandomForestClassifier models, a CalibratedClassifierCV will be included to better train for proper classification probabilities.\n",
    "\n",
    "With this method, the RandomForestClassifier model shows the most improvement and best results."
   ],
   "id": "64f4971d567be08f"
  },
  {
   "metadata": {
    "ExecuteTime": {
     "end_time": "2024-07-10T02:52:00.932314Z",
     "start_time": "2024-07-10T02:51:24.781860Z"
    }
   },
   "cell_type": "code",
   "source": [
    "calibrated_clf_lr = CalibratedClassifierCV(LogisticRegression(), cv = 5, method = \"isotonic\")\n",
    "calibrated_clf_rf = CalibratedClassifierCV(RandomForestClassifier(), cv = 5, method = \"isotonic\")\n",
    "\n",
    "clf_lr = Pipeline([\n",
    "    ('datetime_transformer', DateTimeTransformer()),\n",
    "    ('airportlatlongtransformer', AirportLatLongTransformer()),\n",
    "    ('preprocessor', preprocessor),\n",
    "    ('classifier', calibrated_clf_lr)\n",
    "])\n",
    "\n",
    "clf_rf = Pipeline([\n",
    "    ('datetime_transformer', DateTimeTransformer()),\n",
    "    ('airportlatlongtransformer', AirportLatLongTransformer()),\n",
    "    ('preprocessor', preprocessor),\n",
    "    ('classifier', calibrated_clf_rf)\n",
    "])\n",
    "\n",
    "print(\"Training models...\")\n",
    "clf_lr.fit(X_train, y_train)\n",
    "clf_rf.fit(X_train, y_train)\n",
    "print(\"Done\\n\")\n",
    "\n",
    "print(\"LogisticRegression:\")\n",
    "gauge_performance(clf_lr, X_test, y_test)\n",
    "\n",
    "print(\"Random Forest:\")\n",
    "gauge_performance(clf_rf, X_test, y_test)"
   ],
   "id": "3ac0ef6b55af44c4",
   "outputs": [
    {
     "name": "stdout",
     "output_type": "stream",
     "text": [
      "Training models...\n",
      "Done\n",
      "\n",
      "LogisticRegression:\n",
      "Brier score for class MAJOR_DELAY: 0.05564248717636367\n",
      "Brier score for class MINOR_DELAY: 0.09113594422672872\n",
      "Brier score for class NO_DELAY: 0.14761786831008653\n",
      "Brier score for class SEVERE_DELAY: 0.02608799818413125\n",
      "Average Brier score: 0.08012107447432755\n",
      "\n",
      "Log loss (smaller is better):\n",
      "0.6504081489286346\n",
      "Random Forest:\n",
      "Brier score for class MAJOR_DELAY: 0.054398319839792986\n",
      "Brier score for class MINOR_DELAY: 0.0899233472371142\n",
      "Brier score for class NO_DELAY: 0.13737703251690625\n",
      "Brier score for class SEVERE_DELAY: 0.024716101414867058\n",
      "Average Brier score: 0.07660370025217013\n",
      "\n",
      "Log loss (smaller is better):\n",
      "0.6189466364736317\n"
     ]
    }
   ],
   "execution_count": 27
  },
  {
   "metadata": {},
   "cell_type": "markdown",
   "source": "With a CalibratedClassifierCV, the LogisticRegression results actually got worse, while the RandomForestClassifier results greatly improved and exceed the best result from LogisticRegression so far with a log loss of 0.619. Therefore, moving forward, the RandomForestClassifier will be used.",
   "id": "ba9e8d71ad6a2fea"
  },
  {
   "metadata": {},
   "cell_type": "markdown",
   "source": [
    "## Hyperparameter Tuning\n",
    "\n",
    "To hopefully take this result a step further, hyperparameter tuning using a GridSearchCV will be used to find the ideal parameters for the RandomForestClassifier that result in the best predictions. This code repeatedly trains and evaluates the model with different parameters and can take a very long time, and as such the code here has been disabled."
   ],
   "id": "7c9a4a39a94473f0"
  },
  {
   "metadata": {
    "ExecuteTime": {
     "end_time": "2024-07-10T02:52:00.941527Z",
     "start_time": "2024-07-10T02:52:00.933756Z"
    }
   },
   "cell_type": "code",
   "source": [
    "def rf_grid_search():\n",
    "    param_grid = {\n",
    "        'classifier__estimator__n_estimators': [100, 200, 300],\n",
    "        'classifier__estimator__max_depth': [None, 10, 20, 30],\n",
    "        'classifier__estimator__min_samples_split': [2, 5, 10],\n",
    "        'classifier__estimator__min_samples_leaf': [1, 2, 4]\n",
    "    }\n",
    "\n",
    "    grid_search = GridSearchCV(clf, param_grid, cv = 5, scoring = 'neg_log_loss', n_jobs = 4, verbose = 3)\n",
    "    grid_search.fit(X_train, y_train)\n",
    "\n",
    "    print(\"Best parameters found: \", grid_search.best_params_)\n",
    "    print(\"Best log loss: \", -grid_search.best_score_)\n",
    "\n",
    "    best_rf_classifer = grid_search.best_estimator_\n",
    "    \n",
    "# Disabled due to extensive time requirement - can take up to an hour to run without a GPU\n",
    "# rf_grid_search()"
   ],
   "id": "2f266b026657d1fd",
   "outputs": [],
   "execution_count": 28
  },
  {
   "metadata": {},
   "cell_type": "markdown",
   "source": "This results in a RandomForestClassifier with a `max_depth` of 30, `min_samples_leaf` of 4, `min_samples_split` of 10, and `n_estimators` of 300. This results in a very slight improvement over the default settings, with a log loss of 0.611 and an average brier score of 0.076.",
   "id": "92364f11e33ed6df"
  },
  {
   "metadata": {
    "ExecuteTime": {
     "end_time": "2024-07-10T02:53:15.883457Z",
     "start_time": "2024-07-10T02:52:00.944094Z"
    }
   },
   "cell_type": "code",
   "source": [
    "calibrated_clf = CalibratedClassifierCV(RandomForestClassifier(max_depth = 30, min_samples_leaf = 4, min_samples_split = 10, n_estimators = 300), cv = 5, method = \"isotonic\")\n",
    "\n",
    "clf = Pipeline([\n",
    "    ('datetime_transformer', DateTimeTransformer()),\n",
    "    ('airportlatlongtransformer', AirportLatLongTransformer()),\n",
    "    ('preprocessor', preprocessor),\n",
    "    ('classifier', calibrated_clf)\n",
    "])\n",
    "\n",
    "print(\"Training model...\")\n",
    "clf.fit(X_train, y_train)\n",
    "print(\"Done\\n\")\n",
    "\n",
    "gauge_performance(clf, X_test, y_test)"
   ],
   "id": "4d66b966d8f8d820",
   "outputs": [
    {
     "name": "stdout",
     "output_type": "stream",
     "text": [
      "Training model...\n",
      "Done\n",
      "\n",
      "Brier score for class MAJOR_DELAY: 0.05404454173774683\n",
      "Brier score for class MINOR_DELAY: 0.08940450840664393\n",
      "Brier score for class NO_DELAY: 0.1360661399008224\n",
      "Brier score for class SEVERE_DELAY: 0.02434365718715335\n",
      "Average Brier score: 0.07596471180809164\n",
      "\n",
      "Log loss (smaller is better):\n",
      "0.6108556846695232\n"
     ]
    }
   ],
   "execution_count": 29
  },
  {
   "metadata": {},
   "cell_type": "markdown",
   "source": "This is the best performance found for predicting flight delay probabilities, and will therefore be used as the primary predictive model for the user-facing repl interface in `main.py`.",
   "id": "2550d1873d035109"
  }
 ],
 "metadata": {
  "kernelspec": {
   "display_name": "Python 3",
   "language": "python",
   "name": "python3"
  },
  "language_info": {
   "codemirror_mode": {
    "name": "ipython",
    "version": 2
   },
   "file_extension": ".py",
   "mimetype": "text/x-python",
   "name": "python",
   "nbconvert_exporter": "python",
   "pygments_lexer": "ipython2",
   "version": "2.7.6"
  }
 },
 "nbformat": 4,
 "nbformat_minor": 5
}
