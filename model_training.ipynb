{
 "cells": [
  {
   "cell_type": "code",
   "execution_count": null,
   "id": "initial_id",
   "metadata": {
    "collapsed": true
   },
   "outputs": [],
   "source": [
    ""
   ]
  },
  {
   "metadata": {},
   "cell_type": "markdown",
   "source": [
    "## Data Preprocessing\n",
    "\n",
    "To identify which predictive model can provide the best fit for the data, several different models can be assessed with an 80%/20% split on the data for training and testing. Preprocessing will be applied to the data to ensure that non-numeric data is properly transformed into a format the model can understand using a `OneHotEncoder` from the `sklearn` library."
   ],
   "id": "9349cc3cad936ef0"
  },
  {
   "metadata": {},
   "cell_type": "code",
   "outputs": [],
   "execution_count": null,
   "source": [
    "import pandas as pd\n",
    "from sklearn.model_selection import train_test_split\n",
    "from sklearn.preprocessing import StandardScaler, OneHotEncoder\n",
    "from sklearn.compose import ColumnTransformer\n",
    "\n",
    "df = pd.read_csv('data/sampled_data.csv')\n",
    "\n",
    "y = df['DELAY_CATEGORY']\n",
    "X = df.drop(['DELAY_CATEGORY'], axis=1)\n",
    "\n",
    "X_train, X_test, y_train, y_test = train_test_split(X, y, test_size=0.2, random_state=42)\n",
    "\n",
    "numerical_features = ['FL_MONTH', 'DEP_HOUR']\n",
    "categorical_features = ['ORIGIN', 'DEST', 'OP_UNIQUE_CARRIER']\n",
    "\n",
    "numeric_transformer = StandardScaler()\n",
    "categorical_transformer = OneHotEncoder()\n",
    "\n",
    "preprocessor = ColumnTransformer(\n",
    "    transformers = [\n",
    "        ('num', numeric_transformer, numerical_features), \n",
    "        ('cat', categorical_transformer, categorical_features)\n",
    "    ])"
   ],
   "id": "a0b7072d8b35c2c"
  }
 ],
 "metadata": {
  "kernelspec": {
   "display_name": "Python 3",
   "language": "python",
   "name": "python3"
  },
  "language_info": {
   "codemirror_mode": {
    "name": "ipython",
    "version": 2
   },
   "file_extension": ".py",
   "mimetype": "text/x-python",
   "name": "python",
   "nbconvert_exporter": "python",
   "pygments_lexer": "ipython2",
   "version": "2.7.6"
  }
 },
 "nbformat": 4,
 "nbformat_minor": 5
}
